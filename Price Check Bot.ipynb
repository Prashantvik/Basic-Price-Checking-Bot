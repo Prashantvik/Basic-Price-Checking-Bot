{
 "cells": [
  {
   "cell_type": "markdown",
   "metadata": {},
   "source": [
    "## Basic Price Checking Bot"
   ]
  },
  {
   "cell_type": "markdown",
   "metadata": {},
   "source": [
    "Using modules like \"requests\" and libraries like BeautifulSoup for Web scraping and smtplib for sending mails. I have created a very basic python automated price checking bot, which basically checks the price of a speicific product and sends you a alert email if price of that product fells down a particular number.   \n",
    "This program contains the python script along side with the execution of this particular script to show you how it works."
   ]
  },
  {
   "cell_type": "code",
   "execution_count": 28,
   "metadata": {},
   "outputs": [],
   "source": [
    "#Importing required modules\n",
    "\n",
    "import requests\n",
    "from bs4 import BeautifulSoup\n",
    "import smtplib, ssl"
   ]
  },
  {
   "cell_type": "code",
   "execution_count": 2,
   "metadata": {},
   "outputs": [],
   "source": [
    "URL = \"https://www.amazon.in/dp/B081JWZQJB/ref=fs_a_mn_3\""
   ]
  },
  {
   "cell_type": "code",
   "execution_count": 3,
   "metadata": {},
   "outputs": [],
   "source": [
    "headers = {\"User-Agent\":\"Mozilla/5.0 (Windows NT 10.0; Win64; x64) AppleWebKit/537.36 (KHTML, like Gecko) Chrome/83.0.4103.116 Safari/537.36\"}"
   ]
  },
  {
   "cell_type": "markdown",
   "metadata": {},
   "source": [
    "### Defining function for furthur use:"
   ]
  },
  {
   "cell_type": "code",
   "execution_count": 10,
   "metadata": {},
   "outputs": [],
   "source": [
    "def check_price():\n",
    "    page = requests.get(URL, headers = headers)\n",
    "    soup = BeautifulSoup(page.content, \"html.parser\")\n",
    "    \n",
    "    title = soup.find(id=\"productTitle\")\n",
    "    \n",
    "    #To get only the title name of the prouduct\n",
    "\n",
    "    title = soup.find(id=\"productTitle\").get_text()\n",
    "    print(title.strip())\n",
    "\n",
    "    price = soup.find(id=\"priceblock_ourprice\").get_text()\n",
    "    \n",
    "    #Get only numerics of price\n",
    "\n",
    "    con_price = price[2:]\n",
    "\n",
    "    converted_price = con_price.replace(\",\",\"\")\n",
    "    \n",
    "    #Change price into float\n",
    "\n",
    "    fin_price = float(converted_price)\n",
    "    print(fin_price)\n",
    "    \n",
    "    #If final price of the product falls below 1.5 lakhs send a mail to notify me\n",
    "\n",
    "    if fin_price < 150000:\n",
    "        send_mail()"
   ]
  },
  {
   "cell_type": "markdown",
   "metadata": {},
   "source": [
    "### Defining function for sending mail :"
   ]
  },
  {
   "cell_type": "code",
   "execution_count": 27,
   "metadata": {},
   "outputs": [],
   "source": [
    "def send_mail():\n",
    "    \n",
    "    #To secure connection since starttls is insecure but SSP is not\n",
    "    context = ssl.create_default_context()\n",
    "    \n",
    "    server = smtplib.SMTP(\"smtp.gmail.com\", 587)\n",
    "    server.ehlo()\n",
    "    server.starttls(context=context)\n",
    "    server.ehlo()\n",
    "    \n",
    "    \n",
    "    #ALTERNATIVE:\n",
    "    #password = input(\"Type your password and press enter:\")\n",
    "    #server.login(\"something@gmail.com\", password)\n",
    "    \n",
    "    \n",
    "    #Generate password from your gamil account after allowing two step verification\n",
    "    server.login(\"something@gmail.com\", \"fmlkbcbpwxyonrfq\")\n",
    "    \n",
    "    subject = \"Woo! Price Fell Down\"\n",
    "    body = \"Check amazon link https://www.amazon.in/dp/B081JWZQJB/ref=fs_a_mn_3\"\n",
    "    \n",
    "    msg = f\"Subject:{subject}:\\n\\n{body}\"\n",
    "    \n",
    "    \n",
    "    #I have changed the place of original gmail accounts with pseudo names for privacy reasons after executing the script. \n",
    "    #You can use two different mails for such task.\n",
    "    \n",
    "    server.sendmail(\n",
    "        \"sender@gmail.com\",\n",
    "        \"reciever@gmail.com\",\n",
    "        msg\n",
    "    )\n",
    "    \n",
    "    print(\"Hey! Email has been sent.\")\n",
    "    \n",
    "    server.quit()"
   ]
  },
  {
   "cell_type": "code",
   "execution_count": 19,
   "metadata": {},
   "outputs": [
    {
     "name": "stdout",
     "output_type": "stream",
     "text": [
      "Apple MacBook Pro (16-inch, 16GB RAM, 512GB Storage, 2.6GHz 9th Gen Intel Core i7) - Space Grey\n",
      "189905.0\n"
     ]
    }
   ],
   "source": [
    "check_price()"
   ]
  },
  {
   "cell_type": "code",
   "execution_count": 20,
   "metadata": {},
   "outputs": [],
   "source": [
    "#Since the price won't fall down therefore to make it work\n",
    "#We change the value from less than to greater than\n",
    "\n",
    "\n",
    "def check_price_make_it_work():\n",
    "    page = requests.get(URL, headers = headers)\n",
    "    soup = BeautifulSoup(page.content, \"html.parser\")\n",
    "    \n",
    "    title = soup.find(id=\"productTitle\")\n",
    "    \n",
    "    #To get only the title name of the prouduct\n",
    "\n",
    "    title = soup.find(id=\"productTitle\").get_text()\n",
    "    print(title.strip())\n",
    "\n",
    "    price = soup.find(id=\"priceblock_ourprice\").get_text()\n",
    "    \n",
    "    #Get only numerics of price\n",
    "\n",
    "    con_price = price[2:]\n",
    "\n",
    "    converted_price = con_price.replace(\",\",\"\")\n",
    "    \n",
    "    #Change price into float\n",
    "\n",
    "    fin_price = float(converted_price)\n",
    "    print(fin_price)\n",
    "    \n",
    "    #If final price of the product falls below 1.5 lakhs send a mail to notify me\n",
    "\n",
    "    if fin_price > 150000:\n",
    "        send_mail()"
   ]
  },
  {
   "cell_type": "code",
   "execution_count": 21,
   "metadata": {},
   "outputs": [
    {
     "name": "stdout",
     "output_type": "stream",
     "text": [
      "Apple MacBook Pro (16-inch, 16GB RAM, 512GB Storage, 2.6GHz 9th Gen Intel Core i7) - Space Grey\n",
      "189905.0\n",
      "Hey! Email has been sent.\n"
     ]
    }
   ],
   "source": [
    "check_price_make_it_work()"
   ]
  },
  {
   "cell_type": "markdown",
   "metadata": {},
   "source": [
    "Attaching the proof of the mail I recieved!"
   ]
  },
  {
   "cell_type": "code",
   "execution_count": 2,
   "metadata": {},
   "outputs": [
    {
     "data": {
      "image/png": "[encoded data removed]",
      "text/plain": [
       "<Figure size 576x576 with 1 Axes>"
      ]
     },
     "metadata": {
      "needs_background": "light"
     },
     "output_type": "display_data"
    }
   ],
   "source": [
    "from matplotlib import pyplot as plt\n",
    "import cv2\n",
    "\n",
    "img = cv2.imread('Gmail.PNG')\n",
    "\n",
    "plt.figure(figsize=(8,8))\n",
    "plt.imshow(img)\n",
    "plt.title('Proof')\n",
    "plt.show()"
   ]
  },
  {
   "cell_type": "markdown",
   "metadata": {},
   "source": [
    "### You can check this image in the image folder of this repository!\n",
    "### Thank-you!"
   ]
  }
 ],
 "metadata": {
  "kernelspec": {
   "display_name": "Python 3",
   "language": "python",
   "name": "python3"
  },
  "language_info": {
   "codemirror_mode": {
    "name": "ipython",
    "version": 3
   },
   "file_extension": ".py",
   "mimetype": "text/x-python",
   "name": "python",
   "nbconvert_exporter": "python",
   "pygments_lexer": "ipython3",
   "version": "3.7.6"
  }
 },
 "nbformat": 4,
 "nbformat_minor": 4
}
